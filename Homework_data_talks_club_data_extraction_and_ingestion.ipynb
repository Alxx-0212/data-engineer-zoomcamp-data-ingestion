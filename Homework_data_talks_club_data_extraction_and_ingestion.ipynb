{
  "cells": [
    {
      "cell_type": "markdown",
      "metadata": {
        "id": "mrTFv5nPClXh"
      },
      "source": [
        "# **Homework**: Data talks club data engineering zoomcamp Data loading workshop\n",
        "\n",
        "Hello folks, let's practice what we learned - Loading data with the best practices of data engineering.\n",
        "\n",
        "Here are the exercises we will do\n",
        "\n",
        "\n"
      ]
    },
    {
      "cell_type": "markdown",
      "metadata": {
        "id": "wLF4iXf-NR7t"
      },
      "source": [
        "# 1. Use a generator\n",
        "\n",
        "Remember the concept of generator? Let's practice using them to futher our understanding of how they work.\n",
        "\n",
        "Let's define a generator and then run it as practice.\n",
        "\n",
        "**Answer the following questions:**\n",
        "\n",
        "- **Question 1: What is the sum of the outputs of the generator for limit = 5?**\n",
        "- **Question 2: What is the 13th number yielded**\n",
        "\n",
        "I suggest practicing these questions without GPT as the purpose is to further your learning."
      ]
    },
    {
      "cell_type": "code",
      "execution_count": 1,
      "metadata": {
        "colab": {
          "base_uri": "https://localhost:8080/"
        },
        "id": "wLng-bDJN4jf",
        "outputId": "547683cb-5f56-4815-a903-d0d9578eb1f9"
      },
      "outputs": [
        {
          "name": "stdout",
          "output_type": "stream",
          "text": [
            "1.0\n",
            "1.4142135623730951\n",
            "1.7320508075688772\n",
            "2.0\n",
            "2.23606797749979\n"
          ]
        },
        {
          "data": {
            "text/plain": [
              "8.382332347441762"
            ]
          },
          "execution_count": 1,
          "metadata": {},
          "output_type": "execute_result"
        }
      ],
      "source": [
        "def square_root_generator(limit):\n",
        "    n = 1\n",
        "    while n <= limit:\n",
        "        yield n ** 0.5\n",
        "        n += 1\n",
        "\n",
        "# Example usage:\n",
        "limit = 5\n",
        "generator = square_root_generator(limit)\n",
        "res = 0\n",
        "for sqrt_value in generator:\n",
        "    print(sqrt_value)\n",
        "    res+=sqrt_value\n",
        "\n",
        "res\n"
      ]
    },
    {
      "cell_type": "markdown",
      "metadata": {
        "id": "vjWhILzGJMpK"
      },
      "source": [
        "# 2. Append a generator to a table with existing data\n",
        "\n",
        "\n",
        "Below you have 2 generators. You will be tasked to load them to duckdb and answer some questions from the data\n",
        "\n",
        "1. Load the first generator and calculate the sum of ages of all people. Make sure to only load it once.\n",
        "2. Append the second generator to the same table as the first.\n",
        "3. **After correctly appending the data, calculate the sum of all ages of people.**\n",
        "\n",
        "\n"
      ]
    },
    {
      "cell_type": "code",
      "execution_count": 2,
      "metadata": {
        "colab": {
          "base_uri": "https://localhost:8080/"
        },
        "id": "2MoaQcdLBEk6",
        "outputId": "d2b93dc1-d83f-44ea-aeff-fdf51d75f7aa"
      },
      "outputs": [
        {
          "name": "stdout",
          "output_type": "stream",
          "text": [
            "Loaded tables: \n"
          ]
        },
        {
          "data": {
            "text/plain": [
              "┌─────────────────────┐\n",
              "│        name         │\n",
              "│       varchar       │\n",
              "├─────────────────────┤\n",
              "│ _dlt_loads          │\n",
              "│ _dlt_pipeline_state │\n",
              "│ _dlt_version        │\n",
              "│ people              │\n",
              "└─────────────────────┘"
            ]
          },
          "metadata": {},
          "output_type": "display_data"
        },
        {
          "data": {
            "text/plain": [
              "┌───────┬──────────┬───────┬─────────┬────────────────────┬────────────────┐\n",
              "│  id   │   name   │  age  │  city   │    _dlt_load_id    │    _dlt_id     │\n",
              "│ int64 │ varchar  │ int64 │ varchar │      varchar       │    varchar     │\n",
              "├───────┼──────────┼───────┼─────────┼────────────────────┼────────────────┤\n",
              "│     1 │ Person_1 │    26 │ City_A  │ 1708074720.0990245 │ 3zgx71+pe4cCuQ │\n",
              "│     2 │ Person_2 │    27 │ City_A  │ 1708074720.0990245 │ Vj+XCbV88q9yiw │\n",
              "│     3 │ Person_3 │    28 │ City_A  │ 1708074720.0990245 │ pMrtjjSgSgC47A │\n",
              "│     4 │ Person_4 │    29 │ City_A  │ 1708074720.0990245 │ fhQt9oACdBySkw │\n",
              "│     5 │ Person_5 │    30 │ City_A  │ 1708074720.0990245 │ L5i3YkRL6DgD/Q │\n",
              "└───────┴──────────┴───────┴─────────┴────────────────────┴────────────────┘"
            ]
          },
          "execution_count": 2,
          "metadata": {},
          "output_type": "execute_result"
        }
      ],
      "source": [
        "import dlt \n",
        "import duckdb\n",
        "\n",
        "pipeline = dlt.pipeline(destination='duckdb', dataset_name='people')\n",
        "\n",
        "def people_1():\n",
        "    for i in range(1, 6):\n",
        "        yield {\"ID\": i, \"Name\": f\"Person_{i}\", \"Age\": 25 + i, \"City\": \"City_A\"}\n",
        "\n",
        "# data_1=[]\n",
        "# for person in people_1():\n",
        "#     print(person)\n",
        "#     data_1.append(person)\n",
        "\n",
        "info = pipeline.run(people_1(),\n",
        "\t\t\t\t\ttable_name=\"people\",\n",
        "\t\t\t\t\twrite_disposition=\"append\",\n",
        "                    primary_key='ID')\n",
        "\n",
        "conn = duckdb.connect(f\"{pipeline.pipeline_name}.duckdb\")\n",
        "\n",
        "conn.sql(f\"SET search_path = '{pipeline.dataset_name}'\")\n",
        "print('Loaded tables: ')\n",
        "display(conn.sql(\"show tables\"))\n",
        "\n",
        "conn.sql('SELECT * FROM people')\n",
        " "
      ]
    },
    {
      "cell_type": "code",
      "execution_count": 3,
      "metadata": {},
      "outputs": [
        {
          "data": {
            "text/plain": [
              "┌──────────┐\n",
              "│ sum(Age) │\n",
              "│  int128  │\n",
              "├──────────┤\n",
              "│      140 │\n",
              "└──────────┘"
            ]
          },
          "execution_count": 3,
          "metadata": {},
          "output_type": "execute_result"
        }
      ],
      "source": [
        "# calculate the sum of ages of all people from the first generator\n",
        "conn.sql('SELECT SUM(Age) FROM people')"
      ]
    },
    {
      "cell_type": "code",
      "execution_count": 4,
      "metadata": {},
      "outputs": [],
      "source": [
        "def people_2():\n",
        "    for i in range(3, 9):\n",
        "        yield {\"ID\": i, \"Name\": f\"Person_{i}\", \"Age\": 30 + i, \"City\": \"City_B\", \"Occupation\": f\"Job_{i}\"}\n",
        "\n",
        "# data_2=[]\n",
        "# for person in people_2():\n",
        "#     print(person)\n",
        "#     data_2.append(person)\n",
        "\n",
        "info = pipeline.run(people_2,\n",
        "\t\t\t\t\ttable_name=\"people\",\n",
        "\t\t\t\t\twrite_disposition=\"append\",\n",
        "                    primary_key='ID')"
      ]
    },
    {
      "cell_type": "code",
      "execution_count": 10,
      "metadata": {},
      "outputs": [
        {
          "data": {
            "text/plain": [
              "┌───────┬──────────┬───────┬─────────┬────────────────────┬────────────────┬────────────┐\n",
              "│  id   │   name   │  age  │  city   │    _dlt_load_id    │    _dlt_id     │ occupation │\n",
              "│ int64 │ varchar  │ int64 │ varchar │      varchar       │    varchar     │  varchar   │\n",
              "├───────┼──────────┼───────┼─────────┼────────────────────┼────────────────┼────────────┤\n",
              "│     1 │ Person_1 │    26 │ City_A  │ 1708074720.0990245 │ 3zgx71+pe4cCuQ │ NULL       │\n",
              "│     2 │ Person_2 │    27 │ City_A  │ 1708074720.0990245 │ Vj+XCbV88q9yiw │ NULL       │\n",
              "│     3 │ Person_3 │    28 │ City_A  │ 1708074720.0990245 │ pMrtjjSgSgC47A │ NULL       │\n",
              "│     4 │ Person_4 │    29 │ City_A  │ 1708074720.0990245 │ fhQt9oACdBySkw │ NULL       │\n",
              "│     5 │ Person_5 │    30 │ City_A  │ 1708074720.0990245 │ L5i3YkRL6DgD/Q │ NULL       │\n",
              "│     3 │ Person_3 │    33 │ City_B  │ 1708074721.2445679 │ d6YIZiyunRJdlg │ Job_3      │\n",
              "│     4 │ Person_4 │    34 │ City_B  │ 1708074721.2445679 │ 8nsN3Gj0eP6/zw │ Job_4      │\n",
              "│     5 │ Person_5 │    35 │ City_B  │ 1708074721.2445679 │ y14IqDq4QpxOKA │ Job_5      │\n",
              "│     6 │ Person_6 │    36 │ City_B  │ 1708074721.2445679 │ 2jGo+kyAKME74Q │ Job_6      │\n",
              "│     7 │ Person_7 │    37 │ City_B  │ 1708074721.2445679 │ Fnply+A//NLHKg │ Job_7      │\n",
              "│     8 │ Person_8 │    38 │ City_B  │ 1708074721.2445679 │ wE8Ep3stdf9EdA │ Job_8      │\n",
              "├───────┴──────────┴───────┴─────────┴────────────────────┴────────────────┴────────────┤\n",
              "│ 11 rows                                                                     7 columns │\n",
              "└───────────────────────────────────────────────────────────────────────────────────────┘"
            ]
          },
          "execution_count": 10,
          "metadata": {},
          "output_type": "execute_result"
        }
      ],
      "source": [
        "conn.sql('SELECT * FROM people')"
      ]
    },
    {
      "cell_type": "code",
      "execution_count": 5,
      "metadata": {},
      "outputs": [
        {
          "data": {
            "text/plain": [
              "┌──────────┐\n",
              "│ sum(Age) │\n",
              "│  int128  │\n",
              "├──────────┤\n",
              "│      353 │\n",
              "└──────────┘"
            ]
          },
          "execution_count": 5,
          "metadata": {},
          "output_type": "execute_result"
        }
      ],
      "source": [
        "# calculate the sum of ages of all people \n",
        "conn.sql('SELECT SUM(Age) FROM people')"
      ]
    },
    {
      "cell_type": "markdown",
      "metadata": {
        "id": "pY4cFAWOSwN1"
      },
      "source": [
        "# 3. Merge a generator\n",
        "\n",
        "Re-use the generators from Exercise 2.\n",
        "\n",
        "A table's primary key needs to be created from the start, so load your data to a new table with primary key ID.\n",
        "\n",
        "Load your first generator first, and then load the second one with merge. Since they have overlapping IDs, some of the records from the first load should be replaced by the ones from the second load.\n",
        "\n",
        "After loading, you should have a total of 8 records, and ID 3 should have age 33.\n",
        "\n",
        "Question: **Calculate the sum of ages of all the people loaded as described above.**\n"
      ]
    },
    {
      "cell_type": "markdown",
      "metadata": {
        "id": "kKB2GTB9oVjr"
      },
      "source": [
        "# Solution: First make sure that the following modules are installed:"
      ]
    },
    {
      "cell_type": "code",
      "execution_count": 6,
      "metadata": {
        "id": "xTVvtyqrfVNq"
      },
      "outputs": [],
      "source": [
        "#Install the dependencies\n",
        "# %%capture\n",
        "# !pip install dlt[duckdb]"
      ]
    },
    {
      "cell_type": "code",
      "execution_count": 7,
      "metadata": {},
      "outputs": [],
      "source": [
        "pipeline = dlt.pipeline(destination='duckdb', dataset_name='people')\n",
        "\n",
        "info = pipeline.run(people_1(),table_name='people_merged',write_disposition='append',primary_key='ID')\n",
        "info = pipeline.run(people_2(),table_name='people_merged',write_disposition='merge',primary_key='ID')"
      ]
    },
    {
      "cell_type": "code",
      "execution_count": 9,
      "metadata": {},
      "outputs": [
        {
          "data": {
            "text/plain": [
              "┌───────┬──────────┬───────┬─────────┬────────────────────┬────────────────┬────────────┐\n",
              "│  id   │   name   │  age  │  city   │    _dlt_load_id    │    _dlt_id     │ occupation │\n",
              "│ int64 │ varchar  │ int64 │ varchar │      varchar       │    varchar     │  varchar   │\n",
              "├───────┼──────────┼───────┼─────────┼────────────────────┼────────────────┼────────────┤\n",
              "│     1 │ Person_1 │    26 │ City_A  │ 1708074722.0906181 │ JCkZprQqVdKaRg │ NULL       │\n",
              "│     2 │ Person_2 │    27 │ City_A  │ 1708074722.0906181 │ 540vFrebrRaL2g │ NULL       │\n",
              "│     7 │ Person_7 │    37 │ City_B  │ 1708074722.8752172 │ mBv1Z6q1tSZtWw │ Job_7      │\n",
              "│     8 │ Person_8 │    38 │ City_B  │ 1708074722.8752172 │ 9hgtBQNxxiWldA │ Job_8      │\n",
              "│     5 │ Person_5 │    35 │ City_B  │ 1708074722.8752172 │ F4i6gR/wlA5GVQ │ Job_5      │\n",
              "│     4 │ Person_4 │    34 │ City_B  │ 1708074722.8752172 │ ySQYSq9xYgETHQ │ Job_4      │\n",
              "│     3 │ Person_3 │    33 │ City_B  │ 1708074722.8752172 │ 1jtZPF8IP5CMyw │ Job_3      │\n",
              "│     6 │ Person_6 │    36 │ City_B  │ 1708074722.8752172 │ jHLtZqjMGvd+pA │ Job_6      │\n",
              "└───────┴──────────┴───────┴─────────┴────────────────────┴────────────────┴────────────┘"
            ]
          },
          "execution_count": 9,
          "metadata": {},
          "output_type": "execute_result"
        }
      ],
      "source": [
        "conn.sql('SELECT * FROM people.people_merged')"
      ]
    },
    {
      "cell_type": "code",
      "execution_count": 8,
      "metadata": {},
      "outputs": [
        {
          "data": {
            "text/plain": [
              "┌──────────┐\n",
              "│ sum(Age) │\n",
              "│  int128  │\n",
              "├──────────┤\n",
              "│      266 │\n",
              "└──────────┘"
            ]
          },
          "execution_count": 8,
          "metadata": {},
          "output_type": "execute_result"
        }
      ],
      "source": [
        "conn.sql('SELECT SUM(Age) FROM people.people_merged')"
      ]
    },
    {
      "cell_type": "markdown",
      "metadata": {
        "id": "PoTJu4kbGG0z"
      },
      "source": [
        "Questions? difficulties? We are here to help.\n",
        "- DTC data engineering course channel: https://datatalks-club.slack.com/archives/C01FABYF2RG\n",
        "- dlt's DTC cohort channel: https://dlthub-community.slack.com/archives/C06GAEX2VNX"
      ]
    }
  ],
  "metadata": {
    "colab": {
      "provenance": []
    },
    "kernelspec": {
      "display_name": "Python 3",
      "name": "python3"
    },
    "language_info": {
      "codemirror_mode": {
        "name": "ipython",
        "version": 3
      },
      "file_extension": ".py",
      "mimetype": "text/x-python",
      "name": "python",
      "nbconvert_exporter": "python",
      "pygments_lexer": "ipython3",
      "version": "3.9.16"
    }
  },
  "nbformat": 4,
  "nbformat_minor": 0
}
